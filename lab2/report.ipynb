{
 "cells": [
  {
   "cell_type": "code",
   "execution_count": null,
   "id": "3ca6f8a4",
   "metadata": {
    "vscode": {
     "languageId": "plaintext"
    }
   },
   "outputs": [],
   "source": [
    "format ELF64\n",
    "public _start\n",
    "public exit\n",
    "\n",
    "section '.bss' writable\n",
    "my db 0xA, \"S=QLQGaThNTMUkUIfNqqbSWtpNV\"\n",
    "newline db 10, 0\n",
    "\n",
    "section '.text' executable\n",
    "_start:\n",
    "    mov rcx, my\n",
    "    add rcx, 27\n",
    "    .iter:\n",
    "        mov rax, 4\n",
    "        mov rbx, 1\n",
    "\n",
    "        mov rdx, 1\n",
    "        int 0x80\n",
    "\n",
    "        dec rcx\n",
    "        cmp rcx, my\n",
    "        jne .iter\n",
    "\n",
    "    mov rax, 4\n",
    "    mov rbx, 1\n",
    "\n",
    "    mov rcx, newline\n",
    "    mov rdx, 1\n",
    "    int 0x80\n",
    "\n",
    "    call exit\n",
    "\n",
    "exit:\n",
    "  mov rax, 1\n",
    "  xor rbx, rbx\n",
    "  int 0x80"
   ]
  },
  {
   "attachments": {
    "image.png": {
     "image/png": "[encoded data removed]"
    }
   },
   "cell_type": "markdown",
   "id": "3a54df06",
   "metadata": {},
   "source": [
    "![image.png](attachment:image.png)"
   ]
  },
  {
   "cell_type": "code",
   "execution_count": null,
   "id": "95b791af",
   "metadata": {
    "vscode": {
     "languageId": "plaintext"
    }
   },
   "outputs": [],
   "source": [
    "format ELF64\n",
    "public _start\n",
    "public exit\n",
    "\n",
    "section '.bss' writable\n",
    "sym db '+'\n",
    "M dq 6\n",
    "K dq 11\n",
    "newline db 10\n",
    "\n",
    "section '.text' executable\n",
    "_start:\n",
    "    mov rcx, [K]\n",
    "\n",
    "    .iter1:\n",
    "        push rcx\n",
    "        mov rdx, [M]\n",
    "\n",
    "        .iter2:\n",
    "            push rdx\n",
    "\n",
    "            mov rcx, sym\n",
    "\n",
    "            mov rax, 4\n",
    "            mov rbx, 1\n",
    "            mov rdx, 1\n",
    "            int 0x80\n",
    "\n",
    "            pop rdx\n",
    "            dec rdx\n",
    "            cmp rdx, 0\n",
    "            jne .iter2\n",
    "\n",
    "        mov rax, 4\n",
    "        mov rbx, 1\n",
    "\n",
    "        mov rcx, newline\n",
    "        mov rdx, 1\n",
    "        int 0x80\n",
    "\n",
    "        pop rcx\n",
    "        dec rcx\n",
    "        cmp rcx, 0\n",
    "        jne .iter1\n",
    "\n",
    "\n",
    "    call exit\n",
    "\n",
    "exit:\n",
    "  mov rax, 1\n",
    "  xor rbx, rbx\n",
    "  int 0x80\n"
   ]
  },
  {
   "attachments": {
    "image.png": {
     "image/png": "[encoded data removed]"
    }
   },
   "cell_type": "markdown",
   "id": "e66bc473",
   "metadata": {},
   "source": [
    "![image.png](attachment:image.png)"
   ]
  },
  {
   "cell_type": "code",
   "execution_count": null,
   "id": "dbbba9ec",
   "metadata": {
    "vscode": {
     "languageId": "plaintext"
    }
   },
   "outputs": [],
   "source": [
    "format ELF64\n",
    "public _start\n",
    "public exit\n",
    "\n",
    "section '.bss' writable\n",
    "sym db '8'\n",
    "M dq 6\n",
    "K dq 11\n",
    "newline db 10\n",
    "\n",
    "section '.text' executable\n",
    "_start:\n",
    "    mov rcx, 1\n",
    "\n",
    "    .iter1:\n",
    "        push rcx\n",
    "        mov rdx, rcx\n",
    "\n",
    "        .iter2:\n",
    "            push rdx\n",
    "\n",
    "            mov rcx, sym\n",
    "\n",
    "            mov rax, 4\n",
    "            mov rbx, 1\n",
    "            mov rdx, 1\n",
    "            int 0x80\n",
    "\n",
    "            pop rdx\n",
    "            dec rdx\n",
    "            cmp rdx, 0\n",
    "            jne .iter2\n",
    "\n",
    "        mov rax, 4\n",
    "        mov rbx, 1\n",
    "\n",
    "        mov rcx, newline\n",
    "        mov rdx, 1\n",
    "        int 0x80\n",
    "\n",
    "        pop rcx\n",
    "        inc rcx\n",
    "        cmp rcx, [K]\n",
    "        jne .iter1\n",
    "\n",
    "\n",
    "    call exit\n",
    "\n",
    "exit:\n",
    "  mov rax, 1\n",
    "  xor rbx, rbx\n",
    "  int 0x80\n"
   ]
  },
  {
   "attachments": {
    "image.png": {
     "image/png": "[encoded data removed]"
    }
   },
   "cell_type": "markdown",
   "id": "1fcc4796",
   "metadata": {},
   "source": [
    "![image.png](attachment:image.png)"
   ]
  },
  {
   "cell_type": "code",
   "execution_count": null,
   "id": "7d59f1a0",
   "metadata": {
    "vscode": {
     "languageId": "plaintext"
    }
   },
   "outputs": [],
   "source": [
    "format ELF64\n",
    "public _start\n",
    "public exit\n",
    "\n",
    "section '.bss' writable\n",
    "    N dq 5277616985\n",
    "    res dq 0\n",
    "    newline db 10\n",
    "    place db 1\n",
    "\n",
    "section '.text' executable\n",
    "_start:\n",
    "    mov rax, [N]\n",
    "    mov rbx, 10\n",
    "    mov rcx, 0\n",
    "\n",
    "    .iter1:\n",
    "        xor rdx, rdx\n",
    "        div rbx\n",
    "        add rcx, rdx\n",
    "        test rax, rax\n",
    "        jnz .iter1\n",
    "\n",
    "    mov [res], rcx\n",
    "    call print\n",
    "\n",
    "    mov rax, 1\n",
    "    mov rdi, 1\n",
    "    mov rsi, newline\n",
    "    mov rdx, 1\n",
    "    syscall\n",
    "\n",
    "    call exit\n",
    "\n",
    "print:\n",
    "    mov rax, [res]\n",
    "    xor rbx, rbx\n",
    "\n",
    "    mov rcx, 10\n",
    "    .loop:\n",
    "        xor rdx, rdx\n",
    "        div rcx\n",
    "        push rdx\n",
    "        inc rbx\n",
    "        test rax, rax\n",
    "        jnz .loop\n",
    "\n",
    "    .print_loop:\n",
    "        pop rax\n",
    "        add rax, '0'\n",
    "        mov [place], al\n",
    "\n",
    "        ; Используем syscall\n",
    "        push rbx        ; сохраняем счётчик\n",
    "        mov rax, 1      ; sys_write\n",
    "        mov rdi, 1      ; stdout\n",
    "        mov rsi, place  ; буфер\n",
    "        mov rdx, 1      ; длина\n",
    "        syscall\n",
    "        pop rbx         ; восстанавливаем счётчик\n",
    "\n",
    "        dec rbx\n",
    "        jnz .print_loop\n",
    "\n",
    "        ret\n",
    "\n",
    "exit:\n",
    "    mov rax, 60         ; sys_exit\n",
    "    xor rdi, rdi        ; exit code 0\n",
    "    syscall\n"
   ]
  },
  {
   "attachments": {
    "image.png": {
     "image/png": "[encoded data removed]"
    }
   },
   "cell_type": "markdown",
   "id": "e3abfaf7",
   "metadata": {},
   "source": [
    "![image.png](attachment:image.png)"
   ]
  },
  {
   "cell_type": "code",
   "execution_count": null,
   "id": "deef0274",
   "metadata": {
    "vscode": {
     "languageId": "plaintext"
    }
   },
   "outputs": [],
   "source": [
    "#include <stdio.h>\n",
    "\n",
    "long long N = 5277616985;\n",
    "\n",
    "int main() {\n",
    "    char sum = 0;\n",
    "    for (; N; N /= 10){ // for быстрее\n",
    "        sum += N % 10;\n",
    "    }\n",
    "\n",
    "    printf(\"%d\\n\", sum);\n",
    "\n",
    "    return 0;\n",
    "}\n"
   ]
  },
  {
   "attachments": {
    "image.png": {
     "image/png": "[encoded data removed]"
    }
   },
   "cell_type": "markdown",
   "id": "01c8da15",
   "metadata": {},
   "source": [
    "![image.png](attachment:image.png)"
   ]
  }
 ],
 "metadata": {
  "language_info": {
   "name": "python"
  }
 },
 "nbformat": 4,
 "nbformat_minor": 5
}
